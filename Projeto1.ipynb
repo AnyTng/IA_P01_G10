{
 "cells": [
  {
   "cell_type": "markdown",
   "id": "140cab3a14e303ea",
   "metadata": {},
   "source": [
    "Teste"
   ]
  },
  {
   "cell_type": "code",
   "id": "80b2d50ba5676255",
   "metadata": {
    "ExecuteTime": {
     "end_time": "2025-10-30T18:24:08.389587Z",
     "start_time": "2025-10-30T18:24:08.386666Z"
    }
   },
   "source": [
    "print (\"hello, world!\")"
   ],
   "outputs": [
    {
     "name": "stdout",
     "output_type": "stream",
     "text": [
      "hello, world!\n"
     ]
    }
   ],
   "execution_count": 1
  },
  {
   "cell_type": "code",
   "id": "59db765a8e0af9ec",
   "metadata": {
    "ExecuteTime": {
     "end_time": "2025-10-30T18:24:09.540698Z",
     "start_time": "2025-10-30T18:24:08.397521Z"
    }
   },
   "source": [
    "%pip install --upgrade pip\n",
    "%pip install python-constraint\n",
    "\n",
    "from constraint import *\n",
    "from itertools import combinations\n"
   ],
   "outputs": [
    {
     "name": "stdout",
     "output_type": "stream",
     "text": [
      "Requirement already satisfied: pip in ./.venv/lib/python3.14/site-packages (25.2)\r\n",
      "Collecting pip\r\n",
      "  Using cached pip-25.3-py3-none-any.whl.metadata (4.7 kB)\r\n",
      "Using cached pip-25.3-py3-none-any.whl (1.8 MB)\r\n",
      "Installing collected packages: pip\r\n",
      "  Attempting uninstall: pip\r\n",
      "    Found existing installation: pip None\r\n",
      "\u001B[1;31merror\u001B[0m: \u001B[1muninstall-no-record-file\u001B[0m\r\n",
      "\r\n",
      "\u001B[31m×\u001B[0m Cannot uninstall pip None\r\n",
      "\u001B[31m╰─>\u001B[0m The package's contents are unknown: no RECORD file was found for pip.\r\n",
      "\r\n",
      "\u001B[1;36mhint\u001B[0m: You might be able to recover from this via: \u001B[32mpip install --force-reinstall --no-deps pip==25.2\u001B[0m\r\n",
      "Note: you may need to restart the kernel to use updated packages.\n",
      "Requirement already satisfied: python-constraint in ./.venv/lib/python3.14/site-packages (1.4.0)\r\n",
      "Note: you may need to restart the kernel to use updated packages.\n"
     ]
    }
   ],
   "execution_count": 2
  },
  {
   "cell_type": "markdown",
   "id": "d51ebc4c8fe9ed8",
   "metadata": {},
   "source": [
    "# Instanciar o Problema"
   ]
  },
  {
   "cell_type": "code",
   "id": "cd33c95678a4bf28",
   "metadata": {
    "ExecuteTime": {
     "end_time": "2025-10-30T18:24:09.596231Z",
     "start_time": "2025-10-30T18:24:09.594310Z"
    }
   },
   "source": [
    "\n",
    "days = 'Segunda Terça Quarta Quinta Sexta'.split()\n",
    "class_groups = 't01 t02 t03'.split()\n",
    "blocks = 'B01 B02 B03 B04 B05 B06 B07 B08 B09 B10 B11 B12 B13 B14 B15 B16 B17 B18 B19 B20'.split()\n",
    "lecturers = 'jo mike rob sue'.split()\n",
    "courses = 'UC11 UC12 UC13 UC14 UC15 UC21 UC22 UC23 UC24 UC25 UC31 UC32 UC33 UC34 UC35'.split()\n",
    "rooms = 'A C G Lab01 Lab02'.split()\n"
   ],
   "outputs": [],
   "execution_count": 3
  },
  {
   "cell_type": "markdown",
   "id": "4371d33f",
   "metadata": {},
   "source": [
    "# Constrains"
   ]
  },
  {
   "cell_type": "code",
   "id": "dcc3ba9b",
   "metadata": {
    "ExecuteTime": {
     "end_time": "2025-10-30T18:24:09.603349Z",
     "start_time": "2025-10-30T18:24:09.600682Z"
    }
   },
   "source": [
    "\n",
    "course_classes = {\n",
    "    't01': ['UC11', 'UC12', 'UC13', 'UC14', 'UC15'],\n",
    "    't02': ['UC21', 'UC22', 'UC23', 'UC24', 'UC25'],\n",
    "    't03': ['UC31', 'UC32', 'UC33', 'UC34', 'UC35']\n",
    "}\n",
    "class_lecturers = {\n",
    "    'jo' : ['UC11', 'UC21', 'UC22', 'UC31'],\n",
    "    'mike': ['UC12', 'UC23', 'UC32'],\n",
    "    'rob': ['UC13', 'UC14', 'UC24', 'UC33'],\n",
    "    'sue': ['UC15', 'UC25', 'UC34', 'UC35']\n",
    "}\n",
    "class_rooms = {\n",
    "    'UC22' : ['Lab01'],\n",
    "    'UC14' : ['Lab01'],\n",
    "}\n",
    "\n",
    "time_restrictions = {\n",
    "    'mike' : ['B13', 'B14', 'B15', 'B16', 'B17', 'B18', 'B19', 'B20'],\n",
    "    'rob' : ['B01', 'B02', 'B03', 'B04'],\n",
    "    'sue' : ['B09', 'B10', 'B11', 'B12', 'B17', 'B18', 'B19', 'B20']\n",
    "    }\n",
    "\n",
    "\n",
    "\n",
    "days_blocks = {\n",
    "    'Segunda': ['B01', 'B02', 'B03', 'B04'],\n",
    "    'Terça': ['B05', 'B06', 'B07', 'B08'],\n",
    "    'Quarta': ['B09', 'B10', 'B11', 'B12'],\n",
    "    'Quinta': ['B13', 'B14', 'B15', 'B16'],\n",
    "    'Sexta': ['B17', 'B18', 'B19', 'B20'],\n",
    "}\n",
    "\n",
    "\n",
    "online_lessons = {\"UC21_2\", \"UC31_2\"}\n",
    "\n",
    "physical_rooms = [r for r in rooms if r != \"Online\"]"
   ],
   "outputs": [],
   "execution_count": 4
  },
  {
   "metadata": {},
   "cell_type": "markdown",
   "source": "# Domínios & Funções auxiliares",
   "id": "33b5f0fbe86824d0"
  },
  {
   "metadata": {
    "ExecuteTime": {
     "end_time": "2025-10-30T18:24:09.614510Z",
     "start_time": "2025-10-30T18:24:09.608577Z"
    }
   },
   "cell_type": "code",
   "source": [
    "# Aulas a agendar\n",
    "lessons_to_schedule = [f\"{course_code}_{index}\" for course_code in courses for index in (1, 2)]\n",
    "\n",
    "# Inversões (UC -> docente; UC -> turma)\n",
    "course_to_teacher = {course_code: lecturer_name for lecturer_name, course_list in class_lecturers.items() for course_code in course_list}\n",
    "course_to_group = {course_code: group_name for group_name, course_list in course_classes.items() for course_code in course_list}\n",
    "\n",
    "# ——— 2) Domínio ———\n",
    "def domain_for_lesson(lesson_name):\n",
    "    course_code = lesson_name.split(\"_\")[0]\n",
    "    teacher_name = course_to_teacher[course_code]\n",
    "    teacher_blocked_blocks = set(time_restrictions.get(teacher_name, []))\n",
    "    allowed_blocks = [block for block in blocks if block not in teacher_blocked_blocks]\n",
    "\n",
    "    if lesson_name in online_lessons:\n",
    "        candidate_rooms = [\"Online\"]                 # aula online não ocupa sala física\n",
    "    elif course_code in class_rooms and class_rooms[course_code]:\n",
    "        candidate_rooms = class_rooms[course_code]   # salas obrigatórias para a UC\n",
    "    else:\n",
    "        candidate_rooms = physical_rooms             # qualquer sala física\n",
    "\n",
    "    return [(block, room) for block in allowed_blocks for room in candidate_rooms]\n",
    "\n",
    "# ——— 3) Criar o problema ———\n",
    "tt_problem = Problem(MinConflictsSolver())\n",
    "\n",
    "\n",
    "# Minimum Remaining Values - Para fazer aulas com menos opções primeiro e tornar o algoritmo mais eficiente e tal\n",
    "lesson_domains = {lesson_name: domain_for_lesson(lesson_name) for lesson_name in lessons_to_schedule}\n",
    "for lesson_name in sorted(lessons_to_schedule, key=lambda name: len(lesson_domains[name])):\n",
    "    tt_problem.addVariable(lesson_name, lesson_domains[lesson_name])\n",
    "\n",
    "# ——— 4) Constraints ———\n",
    "def no_overlapping_blocks(assigned_blocks_rooms):\n",
    "    # Impede choques de bloco\n",
    "    return len({block for (block, room) in assigned_blocks_rooms}) == len(assigned_blocks_rooms)\n",
    "\n",
    "def not_same_physical_room_in_block(lesson_assignment_left, lesson_assignment_right):\n",
    "    # Uma aula por (sala, bloco), exceto a aula online\n",
    "    (block_left, room_left) = lesson_assignment_left\n",
    "    (block_right, room_right) = lesson_assignment_right\n",
    "    if room_left == \"Online\" or room_right == \"Online\":\n",
    "        return True\n",
    "    return not (block_left == block_right and room_left == room_right)\n",
    "\n",
    "block_to_day_map = {block: day for day, day_blocks in days_blocks.items() for block in day_blocks}\n",
    "def lessons_on_different_days(lesson_assignment_first, lesson_assignment_second):\n",
    "    # As 2 aulas da mesma UC em dias diferentes\n",
    "    return block_to_day_map[lesson_assignment_first[0]] != block_to_day_map[lesson_assignment_second[0]]\n",
    "\n",
    "def lessons_four_days(lesson_assignments):\n",
    "    # Uma turma deve ter aulas em 4 dias exatamente\n",
    "    days_with_classes = {block_to_day_map[block] for (block, room) in lesson_assignments}\n",
    "    return len(days_with_classes) == 4\n",
    "\n",
    "def make_max_three(blocks):\n",
    "    blocks = tuple(blocks)\n",
    "    def _rule(*lesson_assignments):\n",
    "        return sum(1 for (block, room) in lesson_assignments if block in blocks) <= 3\n",
    "    return _rule\n"
   ],
   "id": "788d4c7d52e14c7a",
   "outputs": [],
   "execution_count": 5
  },
  {
   "metadata": {},
   "cell_type": "markdown",
   "source": "# Hard Contrains",
   "id": "9cc5c87f375028b4"
  },
  {
   "metadata": {
    "ExecuteTime": {
     "end_time": "2025-10-30T18:24:09.623449Z",
     "start_time": "2025-10-30T18:24:09.620091Z"
    }
   },
   "cell_type": "code",
   "source": [
    "\n",
    "# 4a) Por docente\n",
    "for lecturer_name in lecturers:\n",
    "    variables_for_lecturer = [f\"{course_code}_{index}\" for course_code in class_lecturers[lecturer_name] for index in (1, 2)]\n",
    "    tt_problem.addConstraint(no_overlapping_blocks, tuple(variables_for_lecturer))\n",
    "\n",
    "# 4b) Por turma\n",
    "for group_name in class_groups:\n",
    "    variables_for_group = [f\"{course_code}_{index}\" for course_code in course_classes[group_name] for index in (1, 2)]\n",
    "    tt_problem.addConstraint(no_overlapping_blocks, tuple(variables_for_group))\n",
    "\n",
    "# 4c) Por sala\n",
    "for left_lesson, right_lesson in combinations(lessons_to_schedule, 2):\n",
    "    tt_problem.addConstraint(not_same_physical_room_in_block, (left_lesson, right_lesson))\n",
    "\n",
    "\n",
    "# 4d) Duas aulas da mesma UC em dias distintos\n",
    "for course_code in courses:\n",
    "    tt_problem.addConstraint(lessons_on_different_days, (f\"{course_code}_1\", f\"{course_code}_2\"))\n",
    "\n",
    "#4e) 4 dias de aulas por semana\n",
    "for group_name in class_groups:\n",
    "    vars_for_group = [\n",
    "        lesson for lesson in lessons_to_schedule\n",
    "        if course_to_group[lesson.split(\"_\")[0]] == group_name\n",
    "    ]\n",
    "    tt_problem.addConstraint(lessons_four_days, vars_for_group)\n",
    "\n",
    "#4f) Max 3 aulas por dia por turma\n",
    "for group_name in class_groups:\n",
    "    vars_for_group = [lesson for lesson in lessons_to_schedule\n",
    "                      if course_to_group[lesson.split(\"_\")[0]] == group_name]\n",
    "    for day, day_blocks in days_blocks.items():\n",
    "        tt_problem.addConstraint(make_max_three(day_blocks), tuple(vars_for_group))\n",
    "\n",
    "\n"
   ],
   "id": "ffa4e424487a9a86",
   "outputs": [],
   "execution_count": 6
  },
  {
   "metadata": {},
   "cell_type": "markdown",
   "source": "# Soft Constrains",
   "id": "86d96cd9778efd57"
  },
  {
   "metadata": {
    "ExecuteTime": {
     "end_time": "2025-10-30T18:24:09.629878Z",
     "start_time": "2025-10-30T18:24:09.628466Z"
    }
   },
   "cell_type": "code",
   "source": "",
   "id": "3464ec6d3654fa49",
   "outputs": [],
   "execution_count": null
  },
  {
   "metadata": {},
   "cell_type": "markdown",
   "source": "# Descobrir o resultado",
   "id": "fcab1f1e1a134311"
  },
  {
   "metadata": {
    "ExecuteTime": {
     "end_time": "2025-10-30T18:24:09.725814Z",
     "start_time": "2025-10-30T18:24:09.636215Z"
    }
   },
   "cell_type": "code",
   "source": [
    "solution = tt_problem.getSolution()\n",
    "\n",
    "if not solution:\n",
    "    print(\"Sem solução encontrada.\")\n",
    "else:\n",
    "    # agenda dia//bloco\n",
    "    schedule = {day: {block: [] for block in days_blocks[day]} for day in days}\n",
    "    for lesson, (block, room) in solution.items():\n",
    "        course = lesson.split(\"_\")[0]\n",
    "        entry = {\n",
    "            \"lesson\": lesson,\n",
    "            \"course\": course,\n",
    "            \"group\": course_to_group[course],\n",
    "            \"teacher\": course_to_teacher[course],\n",
    "            \"room\": room,\n",
    "            \"block\": block,\n",
    "            \"day\": block_to_day_map[block],\n",
    "        }\n",
    "        schedule[entry[\"day\"]][block].append(entry)\n",
    "\n",
    "    # ordenar dia//bloco\n",
    "    for day in days:\n",
    "        print(f\"\\n=== {day} ===\")\n",
    "        for block in days_blocks[day]:\n",
    "            entries = schedule[day][block]\n",
    "            if not entries:\n",
    "                continue\n",
    "            print(f\"{block}:\")\n",
    "            # ordena por sala e curso para consistência visual\n",
    "            for e in sorted(entries, key=lambda x: (x[\"room\"], x[\"course\"])):\n",
    "                print(f\"  {e['room']}: {e['course']} ({e['group']}, {e['teacher']})\")\n",
    "\n",
    "    # lista ordenada por bloco (B01..B20)\n",
    "    print(\"\\n--- Lista por bloco ---\")\n",
    "    ordered = sorted(\n",
    "        [\n",
    "            {\n",
    "                \"lesson\": lesson,\n",
    "                \"course\": lesson.split(\"_\")[0],\n",
    "                \"group\": course_to_group[lesson.split(\"_\")[0]],\n",
    "                \"teacher\": course_to_teacher[lesson.split(\"_\")[0]],\n",
    "                \"room\": room,\n",
    "                \"block\": block,\n",
    "                \"day\": block_to_day_map[block],\n",
    "            }\n",
    "            for lesson, (block, room) in solution.items()\n",
    "        ],\n",
    "        key=lambda e: int(e[\"block\"][1:])\n",
    "    )\n",
    "    for e in ordered:\n",
    "        print(f\"{e['block']} ({e['day']}): {e['room']} - {e['course']} ({e['group']}, {e['teacher']})\")"
   ],
   "id": "be30566e7dabc6ef",
   "outputs": [
    {
     "name": "stdout",
     "output_type": "stream",
     "text": [
      "\n",
      "=== Segunda ===\n",
      "B01:\n",
      "  C: UC25 (t02, sue)\n",
      "  Lab01: UC11 (t01, jo)\n",
      "  Lab02: UC32 (t03, mike)\n",
      "B02:\n",
      "  Lab01: UC22 (t02, jo)\n",
      "  Lab02: UC35 (t03, sue)\n",
      "B03:\n",
      "  G: UC15 (t01, sue)\n",
      "  Lab02: UC23 (t02, mike)\n",
      "B04:\n",
      "  Lab01: UC12 (t01, mike)\n",
      "  Lab02: UC34 (t03, sue)\n",
      "\n",
      "=== Terça ===\n",
      "B05:\n",
      "  G: UC34 (t03, sue)\n",
      "  Lab02: UC21 (t02, jo)\n",
      "B06:\n",
      "  G: UC35 (t03, sue)\n",
      "B07:\n",
      "  C: UC33 (t03, rob)\n",
      "  Lab02: UC23 (t02, mike)\n",
      "B08:\n",
      "  Lab01: UC22 (t02, jo)\n",
      "\n",
      "=== Quarta ===\n",
      "B09:\n",
      "  G: UC12 (t01, mike)\n",
      "  Online: UC21 (t02, jo)\n",
      "B10:\n",
      "  Online: UC31 (t03, jo)\n",
      "B11:\n",
      "  A: UC13 (t01, rob)\n",
      "B12:\n",
      "  A: UC32 (t03, mike)\n",
      "  C: UC24 (t02, rob)\n",
      "  Lab02: UC11 (t01, jo)\n",
      "\n",
      "=== Quinta ===\n",
      "B13:\n",
      "  A: UC25 (t02, sue)\n",
      "  Lab01: UC14 (t01, rob)\n",
      "B14:\n",
      "  C: UC24 (t02, rob)\n",
      "  G: UC31 (t03, jo)\n",
      "B15:\n",
      "  Lab01: UC15 (t01, sue)\n",
      "  Lab02: UC33 (t03, rob)\n",
      "\n",
      "=== Sexta ===\n",
      "B17:\n",
      "  C: UC13 (t01, rob)\n",
      "B20:\n",
      "  Lab01: UC14 (t01, rob)\n",
      "\n",
      "--- Lista por bloco ---\n",
      "B01 (Segunda): C - UC25 (t02, sue)\n",
      "B01 (Segunda): Lab02 - UC32 (t03, mike)\n",
      "B01 (Segunda): Lab01 - UC11 (t01, jo)\n",
      "B02 (Segunda): Lab01 - UC22 (t02, jo)\n",
      "B02 (Segunda): Lab02 - UC35 (t03, sue)\n",
      "B03 (Segunda): G - UC15 (t01, sue)\n",
      "B03 (Segunda): Lab02 - UC23 (t02, mike)\n",
      "B04 (Segunda): Lab01 - UC12 (t01, mike)\n",
      "B04 (Segunda): Lab02 - UC34 (t03, sue)\n",
      "B05 (Terça): G - UC34 (t03, sue)\n",
      "B05 (Terça): Lab02 - UC21 (t02, jo)\n",
      "B06 (Terça): G - UC35 (t03, sue)\n",
      "B07 (Terça): Lab02 - UC23 (t02, mike)\n",
      "B07 (Terça): C - UC33 (t03, rob)\n",
      "B08 (Terça): Lab01 - UC22 (t02, jo)\n",
      "B09 (Quarta): Online - UC21 (t02, jo)\n",
      "B09 (Quarta): G - UC12 (t01, mike)\n",
      "B10 (Quarta): Online - UC31 (t03, jo)\n",
      "B11 (Quarta): A - UC13 (t01, rob)\n",
      "B12 (Quarta): A - UC32 (t03, mike)\n",
      "B12 (Quarta): C - UC24 (t02, rob)\n",
      "B12 (Quarta): Lab02 - UC11 (t01, jo)\n",
      "B13 (Quinta): Lab01 - UC14 (t01, rob)\n",
      "B13 (Quinta): A - UC25 (t02, sue)\n",
      "B14 (Quinta): C - UC24 (t02, rob)\n",
      "B14 (Quinta): G - UC31 (t03, jo)\n",
      "B15 (Quinta): Lab01 - UC15 (t01, sue)\n",
      "B15 (Quinta): Lab02 - UC33 (t03, rob)\n",
      "B17 (Sexta): C - UC13 (t01, rob)\n",
      "B20 (Sexta): Lab01 - UC14 (t01, rob)\n"
     ]
    }
   ],
   "execution_count": 7
  }
 ],
 "metadata": {
  "kernelspec": {
   "display_name": ".venv",
   "language": "python",
   "name": "python3"
  },
  "language_info": {
   "codemirror_mode": {
    "name": "ipython",
    "version": 3
   },
   "file_extension": ".py",
   "mimetype": "text/x-python",
   "name": "python",
   "nbconvert_exporter": "python",
   "pygments_lexer": "ipython3",
   "version": "3.13.8"
  }
 },
 "nbformat": 4,
 "nbformat_minor": 5
}
