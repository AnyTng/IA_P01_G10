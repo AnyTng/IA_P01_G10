{
 "cells": [
  {
   "cell_type": "markdown",
   "id": "140cab3a14e303ea",
   "metadata": {},
   "source": [
    "Teste"
   ]
  },
  {
   "cell_type": "code",
   "id": "80b2d50ba5676255",
   "metadata": {
    "ExecuteTime": {
     "end_time": "2025-10-15T20:04:38.499499Z",
     "start_time": "2025-10-15T20:04:38.494191Z"
    }
   },
   "source": [
    "print (\"hello, world!\")"
   ],
   "outputs": [
    {
     "name": "stdout",
     "output_type": "stream",
     "text": [
      "hello, world!\n"
     ]
    }
   ],
   "execution_count": 1
  },
  {
   "cell_type": "code",
   "id": "59db765a8e0af9ec",
   "metadata": {
    "ExecuteTime": {
     "end_time": "2025-10-15T20:04:39.742100Z",
     "start_time": "2025-10-15T20:04:38.525128Z"
    }
   },
   "source": [
    "%pip install --upgrade pip\n",
    "%pip install python-constraint\n",
    "\n",
    "from constraint import *\n"
   ],
   "outputs": [
    {
     "name": "stdout",
     "output_type": "stream",
     "text": [
      "Requirement already satisfied: pip in ./.venv/lib/python3.13/site-packages (25.2)\r\n",
      "Note: you may need to restart the kernel to use updated packages.\n",
      "Requirement already satisfied: python-constraint in ./.venv/lib/python3.13/site-packages (1.4.0)\r\n",
      "Note: you may need to restart the kernel to use updated packages.\n"
     ]
    }
   ],
   "execution_count": 2
  },
  {
   "cell_type": "markdown",
   "id": "d51ebc4c8fe9ed8",
   "metadata": {},
   "source": [
    "# Instanciar o Problema"
   ]
  },
  {
   "cell_type": "code",
   "id": "cd33c95678a4bf28",
   "metadata": {
    "ExecuteTime": {
     "end_time": "2025-10-15T20:04:39.794595Z",
     "start_time": "2025-10-15T20:04:39.792521Z"
    }
   },
   "source": [
    "tt_problem = Problem()\n",
    "days = 'Segunda Terça Quarta Quinta Sexta'.split()\n",
    "class_groups = 't01 t02 t03'.split()\n",
    "blocks = 'B01 B02 B03 B04 B05 B06 B07 B08 B09 B10 B11 B12 B13 B14 B15 B16 B17 B18 B19 B20'.split()\n",
    "lecturers = 'jo mike rob sue'.split()\n",
    "courses = 'UC11 UC12 UC13 UC14 UC15 UC21 UC22 UC23 UC24 UC25 UC31 UC32 UC33 UC34 UC35'.split()\n",
    "rooms = 'A C G Lab01 Lab02'.split()\n"
   ],
   "outputs": [],
   "execution_count": 3
  },
  {
   "cell_type": "markdown",
   "id": "4371d33f",
   "metadata": {},
   "source": [
    "# Constrains"
   ]
  },
  {
   "cell_type": "code",
   "id": "dcc3ba9b",
   "metadata": {
    "ExecuteTime": {
     "end_time": "2025-10-15T20:04:39.802890Z",
     "start_time": "2025-10-15T20:04:39.800314Z"
    }
   },
   "source": [
    "\n",
    "course_classes = {\n",
    "    't01': ['UC11', 'UC12', 'UC13', 'UC14', 'UC15'],\n",
    "    't02': ['UC21', 'UC22', 'UC23', 'UC24', 'UC25'],\n",
    "    't03': ['UC31', 'UC32', 'UC33', 'UC34', 'UC35']\n",
    "}\n",
    "class_lecturers = {\n",
    "    'jo' : ['UC11', 'UC21', 'UC22', 'UC31'],\n",
    "    'mike': ['UC12', 'UC23', 'UC32'],\n",
    "    'rob': ['UC13', 'UC14', 'UC24', 'UC33'],\n",
    "    'sue': ['UC15', 'UC25', 'UC34', 'UC35']\n",
    "}\n",
    "class_rooms = {\n",
    "    'UC22' : ['Lab01'],\n",
    "    'UC14' : ['Lab01'],\n",
    "}\n",
    "\n",
    "time_restrictions = {\n",
    "    'mike' : ['B13', 'B14', 'B15', 'B16', 'B17', 'B18', 'B19', 'B20'],\n",
    "    'rob' : ['B01', 'B02', 'B03', 'B04'],\n",
    "    'sue' : ['B09', 'B10', 'B11', 'B12', 'B17', 'B18', 'B19', 'B20']\n",
    "    }\n",
    "\n",
    "online_lessons = {'UC21': {2}, 'UC31': {2}}\n",
    "\n",
    "days_blocks = {\n",
    "    'Segunda': ['B01', 'B02', 'B03', 'B04'],\n",
    "    'Terça': ['B05', 'B06', 'B07', 'B08'],\n",
    "    'Quarta': ['B09', 'B10', 'B11', 'B12'],\n",
    "    'Quinta': ['B13', 'B14', 'B15', 'B16'],\n",
    "    'Sexta': ['B17', 'B18', 'B19', 'B20'],\n",
    "}\n",
    "\n",
    "online_by_lesson = {\"UC21_2\", \"UC31_2\"}\n",
    "\n",
    "\n"
   ],
   "outputs": [],
   "execution_count": 4
  },
  {
   "cell_type": "markdown",
   "id": "ee587148",
   "metadata": {},
   "source": [
    "# Definir as Variáveis"
   ]
  },
  {
   "cell_type": "code",
   "id": "5d5194d6",
   "metadata": {
    "ExecuteTime": {
     "end_time": "2025-10-15T20:11:29.843776Z",
     "start_time": "2025-10-15T20:04:39.806762Z"
    }
   },
   "source": [
    "# ——— 1) Dados auxiliares ———\n",
    "# #oc: só a 2.ª aula destas UCs é online\n",
    "online_by_lesson = {\"UC21_2\", \"UC31_2\"}\n",
    "\n",
    "# Aulas a agendar (2 por UC)\n",
    "lessons_to_schedule = [f\"{uc}_{i}\" for uc in courses for i in (1, 2)]\n",
    "\n",
    "# Inversões (UC -> docente; UC -> turma)\n",
    "course_teacher = {uc: t for t, ucs in class_lecturers.items() for uc in ucs}\n",
    "course_group   = {uc: g for g, ucs in course_classes.items()   for uc in ucs}\n",
    "\n",
    "# ——— 2) Domínio por AULA ———\n",
    "def domain_for_lesson(lesson):\n",
    "    uc = lesson.split(\"_\")[0]\n",
    "    teacher = course_teacher[uc]\n",
    "    blocked = set(time_restrictions.get(teacher, []))\n",
    "    blocks_ok = [b for b in blocks if b not in blocked]\n",
    "\n",
    "    if lesson in online_by_lesson:\n",
    "        room_list = [\"Online\"]             # online não ocupa sala física\n",
    "    elif uc in class_rooms:\n",
    "        room_list = class_rooms[uc]        # ex.: UC14/UC22 -> [\"Lab01\"]\n",
    "    else:\n",
    "        room_list = rooms                  # qualquer sala física\n",
    "\n",
    "    return [(b, r) for b in blocks_ok for r in room_list]\n",
    "\n",
    "# ——— 3) Criar o problema “limpo” e as variáveis uma vez ———\n",
    "tt_problem = Problem()\n",
    "for lesson in lessons_to_schedule:\n",
    "    tt_problem.addVariable(lesson, domain_for_lesson(lesson))  # <— passa lesson, não uc\n",
    "\n",
    "# ——— 4) Constraints ———\n",
    "def all_diff_blocks(*vals):\n",
    "    # Impede choques de bloco (conta online também)\n",
    "    return len({b for (b, _) in vals}) == len(vals)\n",
    "\n",
    "def no_same_room_block(*vals):\n",
    "    # Uma aula por (sala,bloco); ignora \"Online\"\n",
    "    phys = [(b, r) for (b, r) in vals if r != \"Online\"]\n",
    "    return len(set(phys)) == len(phys)\n",
    "\n",
    "block_to_day = {b: d for d, bls in days_blocks.items() for b in bls}\n",
    "def different_day(a, b):\n",
    "    # As 2 aulas da mesma UC em dias diferentes\n",
    "    return block_to_day[a[0]] != block_to_day[b[0]]\n",
    "\n",
    "# 4a) Por docente\n",
    "for t in lecturers:\n",
    "    vars_t = [f\"{uc}_{i}\" for uc in class_lecturers[t] for i in (1, 2)]\n",
    "    tt_problem.addConstraint(all_diff_blocks, tuple(vars_t))\n",
    "\n",
    "# 4b) Por turma\n",
    "for g in class_groups:\n",
    "    vars_g = [f\"{uc}_{i}\" for uc in course_classes[g] for i in (1, 2)]\n",
    "    tt_problem.addConstraint(all_diff_blocks, tuple(vars_g))\n",
    "\n",
    "# 4c) Por sala (global)\n",
    "tt_problem.addConstraint(no_same_room_block, tuple(lessons_to_schedule))\n",
    "\n",
    "# 4d) Duas aulas da mesma UC em dias distintos\n",
    "for uc in courses:\n",
    "    tt_problem.addConstraint(different_day, (f\"{uc}_1\", f\"{uc}_2\"))\n",
    "\n",
    "# ——— 5) Resolver ———\n",
    "solution = tt_problem.getSolution()\n",
    "print(solution)\n",
    "\n",
    "\n"
   ],
   "outputs": [
    {
     "ename": "KeyboardInterrupt",
     "evalue": "",
     "output_type": "error",
     "traceback": [
      "\u001B[31m---------------------------------------------------------------------------\u001B[39m",
      "\u001B[31mKeyboardInterrupt\u001B[39m                         Traceback (most recent call last)",
      "\u001B[36mCell\u001B[39m\u001B[36m \u001B[39m\u001B[32mIn[5]\u001B[39m\u001B[32m, line 66\u001B[39m\n\u001B[32m     63\u001B[39m     tt_problem.addConstraint(different_day, (\u001B[33mf\u001B[39m\u001B[33m\"\u001B[39m\u001B[38;5;132;01m{\u001B[39;00muc\u001B[38;5;132;01m}\u001B[39;00m\u001B[33m_1\u001B[39m\u001B[33m\"\u001B[39m, \u001B[33mf\u001B[39m\u001B[33m\"\u001B[39m\u001B[38;5;132;01m{\u001B[39;00muc\u001B[38;5;132;01m}\u001B[39;00m\u001B[33m_2\u001B[39m\u001B[33m\"\u001B[39m))\n\u001B[32m     65\u001B[39m \u001B[38;5;66;03m# ——— 5) Resolver ———\u001B[39;00m\n\u001B[32m---> \u001B[39m\u001B[32m66\u001B[39m solution = \u001B[43mtt_problem\u001B[49m\u001B[43m.\u001B[49m\u001B[43mgetSolution\u001B[49m\u001B[43m(\u001B[49m\u001B[43m)\u001B[49m\n\u001B[32m     67\u001B[39m \u001B[38;5;28mprint\u001B[39m(solution)\n",
      "\u001B[36mFile \u001B[39m\u001B[32m~/Documents/Developer/Aulinhas/InteligenciaArtificial/.venv/lib/python3.13/site-packages/constraint/__init__.py:250\u001B[39m, in \u001B[36mProblem.getSolution\u001B[39m\u001B[34m(self)\u001B[39m\n\u001B[32m    248\u001B[39m \u001B[38;5;28;01mif\u001B[39;00m \u001B[38;5;129;01mnot\u001B[39;00m domains:\n\u001B[32m    249\u001B[39m     \u001B[38;5;28;01mreturn\u001B[39;00m \u001B[38;5;28;01mNone\u001B[39;00m\n\u001B[32m--> \u001B[39m\u001B[32m250\u001B[39m \u001B[38;5;28;01mreturn\u001B[39;00m \u001B[38;5;28;43mself\u001B[39;49m\u001B[43m.\u001B[49m\u001B[43m_solver\u001B[49m\u001B[43m.\u001B[49m\u001B[43mgetSolution\u001B[49m\u001B[43m(\u001B[49m\u001B[43mdomains\u001B[49m\u001B[43m,\u001B[49m\u001B[43m \u001B[49m\u001B[43mconstraints\u001B[49m\u001B[43m,\u001B[49m\u001B[43m \u001B[49m\u001B[43mvconstraints\u001B[49m\u001B[43m)\u001B[49m\n",
      "\u001B[36mFile \u001B[39m\u001B[32m~/Documents/Developer/Aulinhas/InteligenciaArtificial/.venv/lib/python3.13/site-packages/constraint/__init__.py:562\u001B[39m, in \u001B[36mBacktrackingSolver.getSolution\u001B[39m\u001B[34m(self, domains, constraints, vconstraints)\u001B[39m\n\u001B[32m    560\u001B[39m \u001B[38;5;28miter\u001B[39m = \u001B[38;5;28mself\u001B[39m.getSolutionIter(domains, constraints, vconstraints)\n\u001B[32m    561\u001B[39m \u001B[38;5;28;01mtry\u001B[39;00m:\n\u001B[32m--> \u001B[39m\u001B[32m562\u001B[39m     \u001B[38;5;28;01mreturn\u001B[39;00m \u001B[38;5;28;43mnext\u001B[39;49m\u001B[43m(\u001B[49m\u001B[38;5;28;43miter\u001B[39;49m\u001B[43m)\u001B[49m\n\u001B[32m    563\u001B[39m \u001B[38;5;28;01mexcept\u001B[39;00m \u001B[38;5;167;01mStopIteration\u001B[39;00m:\n\u001B[32m    564\u001B[39m     \u001B[38;5;28;01mreturn\u001B[39;00m \u001B[38;5;28;01mNone\u001B[39;00m\n",
      "\u001B[36mFile \u001B[39m\u001B[32m~/Documents/Developer/Aulinhas/InteligenciaArtificial/.venv/lib/python3.13/site-packages/constraint/__init__.py:544\u001B[39m, in \u001B[36mBacktrackingSolver.getSolutionIter\u001B[39m\u001B[34m(self, domains, constraints, vconstraints)\u001B[39m\n\u001B[32m    541\u001B[39m         domain.pushState()\n\u001B[32m    543\u001B[39m \u001B[38;5;28;01mfor\u001B[39;00m constraint, variables \u001B[38;5;129;01min\u001B[39;00m vconstraints[variable]:\n\u001B[32m--> \u001B[39m\u001B[32m544\u001B[39m     \u001B[38;5;28;01mif\u001B[39;00m \u001B[38;5;129;01mnot\u001B[39;00m \u001B[43mconstraint\u001B[49m\u001B[43m(\u001B[49m\u001B[43mvariables\u001B[49m\u001B[43m,\u001B[49m\u001B[43m \u001B[49m\u001B[43mdomains\u001B[49m\u001B[43m,\u001B[49m\u001B[43m \u001B[49m\u001B[43massignments\u001B[49m\u001B[43m,\u001B[49m\u001B[43m \u001B[49m\u001B[43mpushdomains\u001B[49m\u001B[43m)\u001B[49m:\n\u001B[32m    545\u001B[39m         \u001B[38;5;66;03m# Value is not good.\u001B[39;00m\n\u001B[32m    546\u001B[39m         \u001B[38;5;28;01mbreak\u001B[39;00m\n\u001B[32m    547\u001B[39m \u001B[38;5;28;01melse\u001B[39;00m:\n",
      "\u001B[36mFile \u001B[39m\u001B[32m~/Documents/Developer/Aulinhas/InteligenciaArtificial/.venv/lib/python3.13/site-packages/constraint/__init__.py:991\u001B[39m, in \u001B[36mFunctionConstraint.__call__\u001B[39m\u001B[34m(self, variables, domains, assignments, forwardcheck, _unassigned)\u001B[39m\n\u001B[32m    986\u001B[39m missing = parms.count(_unassigned)\n\u001B[32m    987\u001B[39m \u001B[38;5;28;01mif\u001B[39;00m missing:\n\u001B[32m    988\u001B[39m     \u001B[38;5;28;01mreturn\u001B[39;00m (\u001B[38;5;28mself\u001B[39m._assigned \u001B[38;5;129;01mor\u001B[39;00m \u001B[38;5;28mself\u001B[39m._func(*parms)) \u001B[38;5;129;01mand\u001B[39;00m (\n\u001B[32m    989\u001B[39m         \u001B[38;5;129;01mnot\u001B[39;00m forwardcheck \u001B[38;5;129;01mor\u001B[39;00m\n\u001B[32m    990\u001B[39m         missing != \u001B[32m1\u001B[39m \u001B[38;5;129;01mor\u001B[39;00m\n\u001B[32m--> \u001B[39m\u001B[32m991\u001B[39m         \u001B[38;5;28;43mself\u001B[39;49m\u001B[43m.\u001B[49m\u001B[43mforwardCheck\u001B[49m\u001B[43m(\u001B[49m\u001B[43mvariables\u001B[49m\u001B[43m,\u001B[49m\u001B[43m \u001B[49m\u001B[43mdomains\u001B[49m\u001B[43m,\u001B[49m\u001B[43m \u001B[49m\u001B[43massignments\u001B[49m\u001B[43m)\u001B[49m\n\u001B[32m    992\u001B[39m     )\n\u001B[32m    993\u001B[39m \u001B[38;5;28;01mreturn\u001B[39;00m \u001B[38;5;28mself\u001B[39m._func(*parms)\n",
      "\u001B[36mFile \u001B[39m\u001B[32m~/Documents/Developer/Aulinhas/InteligenciaArtificial/.venv/lib/python3.13/site-packages/constraint/__init__.py:935\u001B[39m, in \u001B[36mConstraint.forwardCheck\u001B[39m\u001B[34m(self, variables, domains, assignments, _unassigned)\u001B[39m\n\u001B[32m    933\u001B[39m \u001B[38;5;28;01mfor\u001B[39;00m value \u001B[38;5;129;01min\u001B[39;00m domain[:]:\n\u001B[32m    934\u001B[39m     assignments[unassignedvariable] = value\n\u001B[32m--> \u001B[39m\u001B[32m935\u001B[39m     \u001B[38;5;28;01mif\u001B[39;00m \u001B[38;5;129;01mnot\u001B[39;00m \u001B[38;5;28;43mself\u001B[39;49m\u001B[43m(\u001B[49m\u001B[43mvariables\u001B[49m\u001B[43m,\u001B[49m\u001B[43m \u001B[49m\u001B[43mdomains\u001B[49m\u001B[43m,\u001B[49m\u001B[43m \u001B[49m\u001B[43massignments\u001B[49m\u001B[43m)\u001B[49m:\n\u001B[32m    936\u001B[39m         domain.hideValue(value)\n\u001B[32m    937\u001B[39m \u001B[38;5;28;01mdel\u001B[39;00m assignments[unassignedvariable]\n",
      "\u001B[36mFile \u001B[39m\u001B[32m~/Documents/Developer/Aulinhas/InteligenciaArtificial/.venv/lib/python3.13/site-packages/constraint/__init__.py:993\u001B[39m, in \u001B[36mFunctionConstraint.__call__\u001B[39m\u001B[34m(self, variables, domains, assignments, forwardcheck, _unassigned)\u001B[39m\n\u001B[32m    987\u001B[39m \u001B[38;5;28;01mif\u001B[39;00m missing:\n\u001B[32m    988\u001B[39m     \u001B[38;5;28;01mreturn\u001B[39;00m (\u001B[38;5;28mself\u001B[39m._assigned \u001B[38;5;129;01mor\u001B[39;00m \u001B[38;5;28mself\u001B[39m._func(*parms)) \u001B[38;5;129;01mand\u001B[39;00m (\n\u001B[32m    989\u001B[39m         \u001B[38;5;129;01mnot\u001B[39;00m forwardcheck \u001B[38;5;129;01mor\u001B[39;00m\n\u001B[32m    990\u001B[39m         missing != \u001B[32m1\u001B[39m \u001B[38;5;129;01mor\u001B[39;00m\n\u001B[32m    991\u001B[39m         \u001B[38;5;28mself\u001B[39m.forwardCheck(variables, domains, assignments)\n\u001B[32m    992\u001B[39m     )\n\u001B[32m--> \u001B[39m\u001B[32m993\u001B[39m \u001B[38;5;28;01mreturn\u001B[39;00m \u001B[38;5;28;43mself\u001B[39;49m\u001B[43m.\u001B[49m\u001B[43m_func\u001B[49m\u001B[43m(\u001B[49m\u001B[43m*\u001B[49m\u001B[43mparms\u001B[49m\u001B[43m)\u001B[49m\n",
      "\u001B[36mCell\u001B[39m\u001B[36m \u001B[39m\u001B[32mIn[5]\u001B[39m\u001B[32m, line 34\u001B[39m, in \u001B[36mall_diff_blocks\u001B[39m\u001B[34m(*vals)\u001B[39m\n\u001B[32m     31\u001B[39m     tt_problem.addVariable(lesson, domain_for_lesson(lesson))  \u001B[38;5;66;03m# <— passa lesson, não uc\u001B[39;00m\n\u001B[32m     33\u001B[39m \u001B[38;5;66;03m# ——— 4) Constraints ———\u001B[39;00m\n\u001B[32m---> \u001B[39m\u001B[32m34\u001B[39m \u001B[38;5;28;01mdef\u001B[39;00m\u001B[38;5;250m \u001B[39m\u001B[34mall_diff_blocks\u001B[39m(*vals):\n\u001B[32m     35\u001B[39m     \u001B[38;5;66;03m# Impede choques de bloco (conta online também)\u001B[39;00m\n\u001B[32m     36\u001B[39m     \u001B[38;5;28;01mreturn\u001B[39;00m \u001B[38;5;28mlen\u001B[39m({b \u001B[38;5;28;01mfor\u001B[39;00m (b, _) \u001B[38;5;129;01min\u001B[39;00m vals}) == \u001B[38;5;28mlen\u001B[39m(vals)\n\u001B[32m     38\u001B[39m \u001B[38;5;28;01mdef\u001B[39;00m\u001B[38;5;250m \u001B[39m\u001B[34mno_same_room_block\u001B[39m(*vals):\n\u001B[32m     39\u001B[39m     \u001B[38;5;66;03m# Uma aula por (sala,bloco); ignora \"Online\"\u001B[39;00m\n",
      "\u001B[31mKeyboardInterrupt\u001B[39m: "
     ]
    }
   ],
   "execution_count": 5
  },
  {
   "metadata": {},
   "cell_type": "code",
   "source": "",
   "id": "2b05ba29a38b53bf",
   "outputs": [],
   "execution_count": null
  }
 ],
 "metadata": {
  "kernelspec": {
   "display_name": ".venv",
   "language": "python",
   "name": "python3"
  },
  "language_info": {
   "codemirror_mode": {
    "name": "ipython",
    "version": 3
   },
   "file_extension": ".py",
   "mimetype": "text/x-python",
   "name": "python",
   "nbconvert_exporter": "python",
   "pygments_lexer": "ipython3",
   "version": "3.13.8"
  }
 },
 "nbformat": 4,
 "nbformat_minor": 5
}
