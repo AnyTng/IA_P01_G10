{
 "cells": [
  {
   "cell_type": "markdown",
   "id": "140cab3a14e303ea",
   "metadata": {},
   "source": [
    "Teste"
   ]
  },
  {
   "cell_type": "code",
   "execution_count": 1,
   "id": "80b2d50ba5676255",
   "metadata": {},
   "outputs": [
    {
     "name": "stdout",
     "output_type": "stream",
     "text": [
      "hello, world!\n"
     ]
    }
   ],
   "source": [
    "print (\"hello, world!\")"
   ]
  },
  {
   "cell_type": "code",
   "execution_count": 2,
   "id": "59db765a8e0af9ec",
   "metadata": {},
   "outputs": [
    {
     "name": "stdout",
     "output_type": "stream",
     "text": [
      "Requirement already satisfied: pip in ./.venv/lib/python3.13/site-packages (25.2)\n",
      "Note: you may need to restart the kernel to use updated packages.\n",
      "Requirement already satisfied: python-constraint in ./.venv/lib/python3.13/site-packages (1.4.0)\n",
      "Note: you may need to restart the kernel to use updated packages.\n"
     ]
    }
   ],
   "source": [
    "%pip install --upgrade pip\n",
    "%pip install python-constraint\n",
    "\n",
    "from constraint import *\n"
   ]
  },
  {
   "cell_type": "markdown",
   "id": "d51ebc4c8fe9ed8",
   "metadata": {},
   "source": [
    "# Instanciar o Problema"
   ]
  },
  {
   "cell_type": "code",
   "execution_count": 3,
   "id": "cd33c95678a4bf28",
   "metadata": {
    "ExecuteTime": {
     "end_time": "2025-10-14T14:25:00.954707Z",
     "start_time": "2025-10-14T14:25:00.947657Z"
    }
   },
   "outputs": [],
   "source": [
    "Problem = Problem()\n",
    "days = 'Segunda Terça Quarta Quinta Sexta'.split()\n",
    "courses = 't01 t02 t03'.split()\n",
    "blocks = 'B01 B02 B03 B04 B05 B06 B07 B08 B09 B10 B11 B12 B13 B14 B15 B16 B17 B18 B19 B20'.split()\n",
    "lecturers = 'jo mike rob sue'.split()\n",
    "classes = 'UC11 UC12 UC13 UC14 UC15 UC21 UC22 UC23 UC24 UC25 UC31 UC32 UC33 UC34 UC35'.split()\n",
    "rooms = 'A C G Lab01 Lab02'.split()\n"
   ]
  },
  {
   "cell_type": "markdown",
   "id": "4371d33f",
   "metadata": {},
   "source": [
    "# Constrains"
   ]
  },
  {
   "cell_type": "code",
   "execution_count": null,
   "id": "dcc3ba9b",
   "metadata": {},
   "outputs": [
    {
     "name": "stdout",
     "output_type": "stream",
     "text": [
      "test\n"
     ]
    }
   ],
   "source": [
    "\n",
    "course_classes = {\n",
    "    't01': ['UC11', 'UC12', 'UC13', 'UC14', 'UC15'],\n",
    "    't02': ['UC21', 'UC22', 'UC23', 'UC24', 'UC25'],\n",
    "    't03': ['UC31', 'UC32', 'UC33', 'UC34', 'UC35']\n",
    "}\n",
    "class_lecturers = {\n",
    "    'jo' : ['UC11', 'UC21', 'UC22', 'UC31'],\n",
    "    'mike': ['UC12', 'UC23', 'UC32'],\n",
    "    'rob': ['UC13', 'UC14', 'UC24', 'UC33'],\n",
    "    'sue': ['UC15', 'UC25', 'UC34', 'UC35']\n",
    "}\n",
    "class_rooms = {\n",
    "    'UC22' : ['Lab01'],\n",
    "    'UC14' : ['Lab01'],\n",
    "}\n",
    "\n",
    "time_restrictions = {\n",
    "    'mike' : ['B13', 'B14', 'B15', 'B16', 'B17', 'B18', 'B19', 'B20'],\n",
    "    'rob' : ['B01', 'B02', 'B03', 'B04'],\n",
    "    'sue' : ['B09', 'B10', 'B11', 'B12', 'B17', 'B18', 'B19', 'B20']\n",
    "    }\n",
    "\n",
    "online_classes = ['UC31', 'UC21']\n",
    "\n",
    "days_blocks = {\n",
    "    'Segunda': ['B01', 'B02', 'B03', 'B04'],\n",
    "    'Terça': ['B05', 'B06', 'B07', 'B08'],\n",
    "    'Quarta': ['B09', 'B10', 'B11', 'B12'],\n",
    "    'Quinta': ['B13', 'B14', 'B15', 'B16'],\n",
    "    'Sexta': ['B17', 'B18', 'B19', 'B20'],\n",
    "}\n",
    "\n",
    "\n"
   ]
  },
  {
   "cell_type": "markdown",
   "id": "ee587148",
   "metadata": {},
   "source": [
    "# Definir as Variáveis"
   ]
  },
  {
   "cell_type": "code",
   "execution_count": null,
   "id": "5d5194d6",
   "metadata": {},
   "outputs": [],
   "source": [
    "variables = set (courses + classes + lecturers + rooms)\n",
    "for v in variables:\n",
    "    Problem.addVariable(v, days_blocks.keys())\n"
   ]
  }
 ],
 "metadata": {
  "kernelspec": {
   "display_name": ".venv",
   "language": "python",
   "name": "python3"
  },
  "language_info": {
   "codemirror_mode": {
    "name": "ipython",
    "version": 3
   },
   "file_extension": ".py",
   "mimetype": "text/x-python",
   "name": "python",
   "nbconvert_exporter": "python",
   "pygments_lexer": "ipython3",
   "version": "3.13.8"
  }
 },
 "nbformat": 4,
 "nbformat_minor": 5
}
