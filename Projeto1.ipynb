{
 "cells": [
  {
   "metadata": {},
   "cell_type": "markdown",
   "source": "Teste",
   "id": "140cab3a14e303ea"
  },
  {
   "metadata": {},
   "cell_type": "code",
   "outputs": [],
   "execution_count": null,
   "source": "print (\"hello, world!\")",
   "id": "80b2d50ba5676255"
  },
  {
   "metadata": {
    "ExecuteTime": {
     "end_time": "2025-10-14T13:35:42.829334Z",
     "start_time": "2025-10-14T13:35:42.153283Z"
    }
   },
   "cell_type": "code",
   "source": [
    "%pip install python-constraint\n",
    "\n",
    "\n",
    "\n",
    "from constraint import *\n",
    "\n",
    "\n",
    "\n"
   ],
   "id": "59db765a8e0af9ec",
   "outputs": [
    {
     "name": "stdout",
     "output_type": "stream",
     "text": [
      "Requirement already satisfied: python-constraint in ./.venv/lib/python3.13/site-packages (1.4.0)\r\n",
      "\r\n",
      "\u001B[1m[\u001B[0m\u001B[34;49mnotice\u001B[0m\u001B[1;39;49m]\u001B[0m\u001B[39;49m A new release of pip is available: \u001B[0m\u001B[31;49m24.3.1\u001B[0m\u001B[39;49m -> \u001B[0m\u001B[32;49m25.2\u001B[0m\r\n",
      "\u001B[1m[\u001B[0m\u001B[34;49mnotice\u001B[0m\u001B[1;39;49m]\u001B[0m\u001B[39;49m To update, run: \u001B[0m\u001B[32;49mpip install --upgrade pip\u001B[0m\r\n",
      "Note: you may need to restart the kernel to use updated packages.\n"
     ]
    }
   ],
   "execution_count": 5
  }
 ],
 "metadata": {
  "kernelspec": {
   "display_name": "Python 3",
   "language": "python",
   "name": "python3"
  },
  "language_info": {
   "codemirror_mode": {
    "name": "ipython",
    "version": 2
   },
   "file_extension": ".py",
   "mimetype": "text/x-python",
   "name": "python",
   "nbconvert_exporter": "python",
   "pygments_lexer": "ipython2",
   "version": "2.7.6"
  }
 },
 "nbformat": 4,
 "nbformat_minor": 5
}
