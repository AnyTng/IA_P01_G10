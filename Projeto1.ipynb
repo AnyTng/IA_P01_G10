{
 "cells": [
  {
   "cell_type": "markdown",
   "id": "140cab3a14e303ea",
   "metadata": {},
   "source": [
    "Teste"
   ]
  },
  {
   "cell_type": "code",
   "id": "80b2d50ba5676255",
   "metadata": {
    "ExecuteTime": {
     "end_time": "2025-10-17T16:57:19.392822Z",
     "start_time": "2025-10-17T16:57:19.380207Z"
    }
   },
   "source": [
    "print (\"hello, world!\")"
   ],
   "outputs": [
    {
     "name": "stdout",
     "output_type": "stream",
     "text": [
      "hello, world!\n"
     ]
    }
   ],
   "execution_count": 1
  },
  {
   "cell_type": "code",
   "id": "59db765a8e0af9ec",
   "metadata": {
    "ExecuteTime": {
     "end_time": "2025-10-17T16:57:27.667951Z",
     "start_time": "2025-10-17T16:57:20.622939Z"
    }
   },
   "source": [
    "%pip install --upgrade pip\n",
    "%pip install python-constraint\n",
    "\n",
    "from constraint import *\n"
   ],
   "outputs": [
    {
     "name": "stdout",
     "output_type": "stream",
     "text": [
      "Requirement already satisfied: pip in ./.venv/lib/python3.13/site-packages (25.2)\r\n",
      "Note: you may need to restart the kernel to use updated packages.\n",
      "Requirement already satisfied: python-constraint in ./.venv/lib/python3.13/site-packages (1.4.0)\r\n",
      "Note: you may need to restart the kernel to use updated packages.\n"
     ]
    }
   ],
   "execution_count": 2
  },
  {
   "cell_type": "markdown",
   "id": "d51ebc4c8fe9ed8",
   "metadata": {},
   "source": [
    "# Instanciar o Problema"
   ]
  },
  {
   "cell_type": "code",
   "id": "cd33c95678a4bf28",
   "metadata": {
    "ExecuteTime": {
     "end_time": "2025-10-17T16:57:27.681829Z",
     "start_time": "2025-10-17T16:57:27.674567Z"
    }
   },
   "source": [
    "\n",
    "days = 'Segunda Terça Quarta Quinta Sexta'.split()\n",
    "class_groups = 't01 t02 t03'.split()\n",
    "blocks = 'B01 B02 B03 B04 B05 B06 B07 B08 B09 B10 B11 B12 B13 B14 B15 B16 B17 B18 B19 B20'.split()\n",
    "lecturers = 'jo mike rob sue'.split()\n",
    "courses = 'UC11 UC12 UC13 UC14 UC15 UC21 UC22 UC23 UC24 UC25 UC31 UC32 UC33 UC34 UC35'.split()\n",
    "rooms = 'A C G Lab01 Lab02'.split()\n"
   ],
   "outputs": [],
   "execution_count": 3
  },
  {
   "cell_type": "markdown",
   "id": "4371d33f",
   "metadata": {},
   "source": [
    "# Constrains"
   ]
  },
  {
   "cell_type": "code",
   "id": "dcc3ba9b",
   "metadata": {
    "ExecuteTime": {
     "end_time": "2025-10-17T16:57:27.781783Z",
     "start_time": "2025-10-17T16:57:27.769167Z"
    }
   },
   "source": [
    "\n",
    "course_classes = {\n",
    "    't01': ['UC11', 'UC12', 'UC13', 'UC14', 'UC15'],\n",
    "    't02': ['UC21', 'UC22', 'UC23', 'UC24', 'UC25'],\n",
    "    't03': ['UC31', 'UC32', 'UC33', 'UC34', 'UC35']\n",
    "}\n",
    "class_lecturers = {\n",
    "    'jo' : ['UC11', 'UC21', 'UC22', 'UC31'],\n",
    "    'mike': ['UC12', 'UC23', 'UC32'],\n",
    "    'rob': ['UC13', 'UC14', 'UC24', 'UC33'],\n",
    "    'sue': ['UC15', 'UC25', 'UC34', 'UC35']\n",
    "}\n",
    "class_rooms = {\n",
    "    'UC22' : ['Lab01'],\n",
    "    'UC14' : ['Lab01'],\n",
    "}\n",
    "\n",
    "time_restrictions = {\n",
    "    'mike' : ['B13', 'B14', 'B15', 'B16', 'B17', 'B18', 'B19', 'B20'],\n",
    "    'rob' : ['B01', 'B02', 'B03', 'B04'],\n",
    "    'sue' : ['B09', 'B10', 'B11', 'B12', 'B17', 'B18', 'B19', 'B20']\n",
    "    }\n",
    "\n",
    "online_lessons = {'UC21': {2}, 'UC31': {2}}\n",
    "\n",
    "days_blocks = {\n",
    "    'Segunda': ['B01', 'B02', 'B03', 'B04'],\n",
    "    'Terça': ['B05', 'B06', 'B07', 'B08'],\n",
    "    'Quarta': ['B09', 'B10', 'B11', 'B12'],\n",
    "    'Quinta': ['B13', 'B14', 'B15', 'B16'],\n",
    "    'Sexta': ['B17', 'B18', 'B19', 'B20'],\n",
    "}\n",
    "\n",
    "online_lesson = {\"UC21_2\", \"UC31_2\"}\n",
    "\n",
    "physical_rooms = [r for r in rooms if r != \"Online\"]"
   ],
   "outputs": [],
   "execution_count": 4
  },
  {
   "metadata": {},
   "cell_type": "markdown",
   "source": "# Min Conflicts Solver (teste)",
   "id": "33b5f0fbe86824d0"
  },
  {
   "metadata": {
    "ExecuteTime": {
     "end_time": "2025-10-17T17:36:50.546744Z",
     "start_time": "2025-10-17T17:36:50.467017Z"
    }
   },
   "cell_type": "code",
   "source": [
    "from itertools import combinations\n",
    "\n",
    "# ——— 1) Dados auxiliares ———\n",
    "online_lessons_set = {\"UC21_2\", \"UC31_2\"}\n",
    "\n",
    "# Aulas a agendar\n",
    "lessons_to_schedule = [f\"{course_code}_{index}\" for course_code in courses for index in (1, 2)]\n",
    "\n",
    "# Inversões (UC -> docente; UC -> turma)\n",
    "course_to_teacher = {course_code: lecturer_name for lecturer_name, course_list in class_lecturers.items() for course_code in course_list}\n",
    "course_to_group = {course_code: group_name for group_name, course_list in course_classes.items() for course_code in course_list}\n",
    "\n",
    "# ——— 2) Domínio ———\n",
    "def domain_for_lesson(lesson_name):\n",
    "    course_code = lesson_name.split(\"_\")[0]\n",
    "    teacher_name = course_to_teacher[course_code]\n",
    "    teacher_blocked_blocks = set(time_restrictions.get(teacher_name, []))\n",
    "    allowed_blocks = [block for block in blocks if block not in teacher_blocked_blocks]\n",
    "\n",
    "    if lesson_name in online_lessons_set:\n",
    "        candidate_rooms = [\"Online\"]                 # aula online não ocupa sala física\n",
    "    elif course_code in class_rooms and class_rooms[course_code]:\n",
    "        candidate_rooms = class_rooms[course_code]   # salas obrigatórias para a UC\n",
    "    else:\n",
    "        candidate_rooms = physical_rooms             # qualquer sala física\n",
    "\n",
    "    return [(block, room) for block in allowed_blocks for room in candidate_rooms]\n",
    "\n",
    "# ——— 3) Criar o problema ———\n",
    "tt_problem = Problem(solver=MinConflictsSolver())\n",
    "\n",
    "\n",
    "# Minimum Remaining Values - Para fazer aulas com menos opções primeiro e tornar o algoritmo mais eficiente e tal\n",
    "lesson_domains = {lesson_name: domain_for_lesson(lesson_name) for lesson_name in lessons_to_schedule}\n",
    "for lesson_name in sorted(lessons_to_schedule, key=lambda name: len(lesson_domains[name])):\n",
    "    tt_problem.addVariable(lesson_name, lesson_domains[lesson_name])\n",
    "\n",
    "# ——— 4) Constraints ———\n",
    "def no_overlapping_blocks(*assigned_blocks_rooms):\n",
    "    # Impede choques de bloco\n",
    "    return len({block for (block, room) in assigned_blocks_rooms}) == len(assigned_blocks_rooms)\n",
    "\n",
    "def not_same_physical_room_in_block(lesson_assignment_left, lesson_assignment_right):\n",
    "    # Uma aula por (sala, bloco), exceto a aula online\n",
    "    (block_left, room_left) = lesson_assignment_left\n",
    "    (block_right, room_right) = lesson_assignment_right\n",
    "    if room_left == \"Online\" or room_right == \"Online\":\n",
    "        return True\n",
    "    return not (block_left == block_right and room_left == room_right)\n",
    "\n",
    "block_to_day_map = {block: day for day, day_blocks in days_blocks.items() for block in day_blocks}\n",
    "def lessons_on_different_days(lesson_assignment_first, lesson_assignment_second):\n",
    "    # As 2 aulas da mesma UC em dias diferentes\n",
    "    return block_to_day_map[lesson_assignment_first[0]] != block_to_day_map[lesson_assignment_second[0]]\n",
    "\n",
    "# 4a) Por docente\n",
    "for lecturer_name in lecturers:\n",
    "    variables_for_lecturer = [f\"{course_code}_{index}\" for course_code in class_lecturers[lecturer_name] for index in (1, 2)]\n",
    "    tt_problem.addConstraint(no_overlapping_blocks, tuple(variables_for_lecturer))\n",
    "\n",
    "# 4b) Por turma\n",
    "for group_name in class_groups:\n",
    "    variables_for_group = [f\"{course_code}_{index}\" for course_code in course_classes[group_name] for index in (1, 2)]\n",
    "    tt_problem.addConstraint(no_overlapping_blocks, tuple(variables_for_group))\n",
    "\n",
    "# 4c) Por sala (binárias por par)\n",
    "for left_lesson, right_lesson in combinations(lessons_to_schedule, 2):\n",
    "    tt_problem.addConstraint(not_same_physical_room_in_block, (left_lesson, right_lesson))\n",
    "\n",
    "# 4d) Duas aulas da mesma UC em dias distintos\n",
    "for course_code in courses:\n",
    "    tt_problem.addConstraint(lessons_on_different_days, (f\"{course_code}_1\", f\"{course_code}_2\"))\n",
    "\n",
    "# ——— 5) Resolver ———\n",
    "\n",
    "solution = tt_problem.getSolution()\n",
    "\n",
    "# todo: ordenar a resposta por blocos, fazer as soft e o resto das hard restrictions, dormir\n",
    "\n",
    "print(solution if solution else \"Sem solução encontrada.\")"
   ],
   "id": "788d4c7d52e14c7a",
   "outputs": [
    {
     "name": "stdout",
     "output_type": "stream",
     "text": [
      "{'UC14_1': ('B09', 'Lab01'), 'UC14_2': ('B17', 'Lab01'), 'UC21_2': ('B18', 'Online'), 'UC22_1': ('B20', 'Lab01'), 'UC22_2': ('B16', 'Lab01'), 'UC31_2': ('B17', 'Online'), 'UC12_1': ('B07', 'A'), 'UC12_2': ('B12', 'Lab01'), 'UC15_1': ('B16', 'G'), 'UC15_2': ('B06', 'G'), 'UC23_1': ('B03', 'C'), 'UC23_2': ('B09', 'G'), 'UC25_1': ('B01', 'A'), 'UC25_2': ('B14', 'G'), 'UC32_1': ('B01', 'C'), 'UC32_2': ('B10', 'Lab02'), 'UC34_1': ('B05', 'Lab01'), 'UC34_2': ('B03', 'G'), 'UC35_1': ('B08', 'C'), 'UC35_2': ('B02', 'C'), 'UC13_1': ('B15', 'Lab01'), 'UC13_2': ('B11', 'A'), 'UC24_1': ('B12', 'C'), 'UC24_2': ('B05', 'Lab02'), 'UC33_1': ('B19', 'C'), 'UC33_2': ('B07', 'Lab02'), 'UC11_1': ('B01', 'Lab02'), 'UC11_2': ('B19', 'A'), 'UC21_1': ('B08', 'Lab01'), 'UC31_1': ('B04', 'C')}\n"
     ]
    }
   ],
   "execution_count": 17
  }
 ],
 "metadata": {
  "kernelspec": {
   "display_name": ".venv",
   "language": "python",
   "name": "python3"
  },
  "language_info": {
   "codemirror_mode": {
    "name": "ipython",
    "version": 3
   },
   "file_extension": ".py",
   "mimetype": "text/x-python",
   "name": "python",
   "nbconvert_exporter": "python",
   "pygments_lexer": "ipython3",
   "version": "3.13.8"
  }
 },
 "nbformat": 4,
 "nbformat_minor": 5
}
