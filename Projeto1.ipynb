{
 "cells": [
  {
   "cell_type": "markdown",
   "id": "24b71ada825d0f8a",
   "metadata": {},
   "source": [
    "Teste"
   ]
  },
  {
   "cell_type": "code",
   "id": "38a096d8749b706d",
   "metadata": {
    "ExecuteTime": {
     "end_time": "2025-11-01T17:56:54.729641Z",
     "start_time": "2025-11-01T17:56:54.663035Z"
    }
   },
   "source": [
    "import random\n",
    "\n",
    "print (\"hello, world!\")"
   ],
   "outputs": [
    {
     "name": "stdout",
     "output_type": "stream",
     "text": [
      "hello, world!\n"
     ]
    }
   ],
   "execution_count": 9
  },
  {
   "cell_type": "code",
   "id": "72cd1f6e5bc731bc",
   "metadata": {
    "ExecuteTime": {
     "end_time": "2025-11-01T17:57:06.212782Z",
     "start_time": "2025-11-01T17:56:54.769047Z"
    }
   },
   "source": [
    "%pip install --upgrade pip\n",
    "%pip install python-constraint\n",
    "\n",
    "from constraint import *\n",
    "from itertools import combinations\n"
   ],
   "outputs": [
    {
     "name": "stdout",
     "output_type": "stream",
     "text": [
      "Requirement already satisfied: pip in ./.venv/lib/python3.14/site-packages (25.2)\r\n",
      "Collecting pip\r\n",
      "  Using cached pip-25.3-py3-none-any.whl.metadata (4.7 kB)\r\n",
      "Using cached pip-25.3-py3-none-any.whl (1.8 MB)\r\n",
      "Installing collected packages: pip\r\n",
      "  Attempting uninstall: pip\r\n",
      "    Found existing installation: pip None\r\n",
      "\u001B[1;31merror\u001B[0m: \u001B[1muninstall-no-record-file\u001B[0m\r\n",
      "\r\n",
      "\u001B[31m×\u001B[0m Cannot uninstall pip None\r\n",
      "\u001B[31m╰─>\u001B[0m The package's contents are unknown: no RECORD file was found for pip.\r\n",
      "\r\n",
      "\u001B[1;36mhint\u001B[0m: You might be able to recover from this via: \u001B[32mpip install --force-reinstall --no-deps pip==25.2\u001B[0m\r\n",
      "Note: you may need to restart the kernel to use updated packages.\n",
      "Requirement already satisfied: python-constraint in ./.venv/lib/python3.14/site-packages (1.4.0)\r\n",
      "Note: you may need to restart the kernel to use updated packages.\n"
     ]
    }
   ],
   "execution_count": 10
  },
  {
   "cell_type": "markdown",
   "id": "339feac76a0b13c1",
   "metadata": {},
   "source": [
    "# Instanciar o Problema"
   ]
  },
  {
   "cell_type": "code",
   "id": "b74fe0274ee886ef",
   "metadata": {
    "ExecuteTime": {
     "end_time": "2025-11-01T17:57:06.763800Z",
     "start_time": "2025-11-01T17:57:06.521072Z"
    }
   },
   "source": [
    "\n",
    "days = 'Segunda Terça Quarta Quinta Sexta'.split()\n",
    "class_groups = 't01 t02 t03'.split()\n",
    "blocks = 'B01 B02 B03 B04 B05 B06 B07 B08 B09 B10 B11 B12 B13 B14 B15 B16 B17 B18 B19 B20'.split()\n",
    "lecturers = 'jo mike rob sue'.split()\n",
    "courses = 'UC11 UC12 UC13 UC14 UC15 UC21 UC22 UC23 UC24 UC25 UC31 UC32 UC33 UC34 UC35'.split()\n",
    "rooms = 'A C G Lab01 Lab02'.split()\n"
   ],
   "outputs": [],
   "execution_count": 11
  },
  {
   "cell_type": "markdown",
   "id": "79150ea4e6dc86c2",
   "metadata": {},
   "source": [
    "# Constrains"
   ]
  },
  {
   "cell_type": "code",
   "id": "b5483570c4ac7ffc",
   "metadata": {
    "ExecuteTime": {
     "end_time": "2025-11-01T17:57:06.908908Z",
     "start_time": "2025-11-01T17:57:06.831990Z"
    }
   },
   "source": [
    "\n",
    "course_classes = {\n",
    "    't01': ['UC11', 'UC12', 'UC13', 'UC14', 'UC15'],\n",
    "    't02': ['UC21', 'UC22', 'UC23', 'UC24', 'UC25'],\n",
    "    't03': ['UC31', 'UC32', 'UC33', 'UC34', 'UC35']\n",
    "}\n",
    "class_lecturers = {\n",
    "    'jo' : ['UC11', 'UC21', 'UC22', 'UC31'],\n",
    "    'mike': ['UC12', 'UC23', 'UC32'],\n",
    "    'rob': ['UC13', 'UC14', 'UC24', 'UC33'],\n",
    "    'sue': ['UC15', 'UC25', 'UC34', 'UC35']\n",
    "}\n",
    "class_rooms = {\n",
    "    'UC22' : ['Lab01'],\n",
    "    'UC14' : ['Lab01'],\n",
    "}\n",
    "\n",
    "time_restrictions = {\n",
    "    'mike' : ['B13', 'B14', 'B15', 'B16', 'B17', 'B18', 'B19', 'B20'],\n",
    "    'rob' : ['B01', 'B02', 'B03', 'B04'],\n",
    "    'sue' : ['B09', 'B10', 'B11', 'B12', 'B17', 'B18', 'B19', 'B20']\n",
    "    }\n",
    "\n",
    "\n",
    "\n",
    "days_blocks = {\n",
    "    'Segunda': ['B01', 'B02', 'B03', 'B04'],\n",
    "    'Terça': ['B05', 'B06', 'B07', 'B08'],\n",
    "    'Quarta': ['B09', 'B10', 'B11', 'B12'],\n",
    "    'Quinta': ['B13', 'B14', 'B15', 'B16'],\n",
    "    'Sexta': ['B17', 'B18', 'B19', 'B20'],\n",
    "}\n",
    "\n",
    "\n",
    "online_lessons = {\"UC21_2\", \"UC31_2\"}\n",
    "\n",
    "physical_rooms = [r for r in rooms if r != \"Online\"]"
   ],
   "outputs": [],
   "execution_count": 12
  },
  {
   "cell_type": "markdown",
   "id": "4ed0c111c8dffe1e",
   "metadata": {},
   "source": [
    "# Domínios & Funções auxiliares"
   ]
  },
  {
   "cell_type": "code",
   "id": "aa0376bf340ca418",
   "metadata": {
    "ExecuteTime": {
     "end_time": "2025-11-01T17:57:07.203952Z",
     "start_time": "2025-11-01T17:57:07.146018Z"
    }
   },
   "source": [
    "# Aulas a agendar\n",
    "lessons_to_schedule = [f\"{course_code}_{index}\" for course_code in courses for index in (1, 2)]\n",
    "\n",
    "# Inversões (UC -> docente; UC -> turma)\n",
    "course_to_teacher = {course_code: lecturer_name for lecturer_name, course_list in class_lecturers.items() for course_code in course_list}\n",
    "course_to_group = {course_code: group_name for group_name, course_list in course_classes.items() for course_code in course_list}\n",
    "\n",
    "# ——— Domínio ———\n",
    "def domain_for_lesson(lesson_name):\n",
    "    course_code = lesson_name.split(\"_\")[0]\n",
    "    teacher_name = course_to_teacher[course_code]\n",
    "    teacher_blocked_blocks = set(time_restrictions.get(teacher_name, []))\n",
    "    allowed_blocks = [block for block in blocks if block not in teacher_blocked_blocks]\n",
    "\n",
    "    if lesson_name in online_lessons:\n",
    "        candidate_rooms = [\"Online\"]                 # aula online não ocupa sala física\n",
    "    elif course_code in class_rooms and class_rooms[course_code]:\n",
    "        candidate_rooms = class_rooms[course_code]   # salas obrigatórias para a UC\n",
    "    else:\n",
    "        candidate_rooms = physical_rooms             # qualquer sala física\n",
    "\n",
    "    return [(block, room) for block in allowed_blocks for room in candidate_rooms]\n",
    "\n",
    "\n",
    "# ——— Funções para ajudar os Constrains ———\n",
    "\n",
    "def no_overlapping_blocks(*lesson_assignments):\n",
    "    # Cada argumento é um par (block, room) de uma variável da restrição\n",
    "    blocks = [block for (block, room) in lesson_assignments]\n",
    "    return len(set(blocks)) == len(blocks)\n",
    "\n",
    "def not_same_physical_room_in_block(lesson_assignment_left, lesson_assignment_right):\n",
    "    # Uma aula por (sala, bloco), exceto a aula online\n",
    "    (block_left, room_left) = lesson_assignment_left\n",
    "    (block_right, room_right) = lesson_assignment_right\n",
    "    if room_left == \"Online\" or room_right == \"Online\":\n",
    "        return True\n",
    "    return not (block_left == block_right and room_left == room_right)\n",
    "\n",
    "block_to_day_map = {block: day for day, day_blocks in days_blocks.items() for block in day_blocks}\n",
    "def lessons_on_different_days(lesson_assignment_first, lesson_assignment_second):\n",
    "    # As 2 aulas da mesma UC em dias diferentes\n",
    "    return block_to_day_map[lesson_assignment_first[0]] != block_to_day_map[lesson_assignment_second[0]]\n",
    "\n",
    "def lessons_four_days(*lesson_assignments):\n",
    "    # Uma turma deve ter aulas em 4 dias exatamente\n",
    "    days_with_classes = {block_to_day_map[block] for (block, room) in lesson_assignments}\n",
    "    return len(days_with_classes) == 4\n",
    "\n",
    "def make_max_three(blocks):\n",
    "    # Máximo de 3 aulas por dia por turma\n",
    "    blocks = tuple(blocks)\n",
    "    def _rule(*lesson_assignments):\n",
    "        return sum(1 for (block, room) in lesson_assignments if block in blocks) <= 3\n",
    "    return _rule\n",
    "\n",
    "def all_classes_on_day_are_consecutive(*lesson_assignments):\n",
    "    # Se uma turma tem aulas num dia, essas aulas devem ser em blocos consecutivos.\n",
    "    day_to_blocks = {}\n",
    "    for block, room in lesson_assignments:\n",
    "        day = block_to_day_map[block]\n",
    "        day_to_blocks.setdefault(day, []).append(int(block[1:]))\n",
    "\n",
    "    for day, block_numbers in day_to_blocks.items():\n",
    "        if len(block_numbers) > 1:\n",
    "            block_numbers.sort()\n",
    "            # Verifica se os números dos blocos formam uma sequência contínua\n",
    "            # [5, 6, 7] -> max(7) - min(5) = 2, que é len(3) - 1. Válido.\n",
    "            # [5, 7] -> max(7) - min(5) = 2, que é != len(2) - 1. Inválido.\n",
    "            if max(block_numbers) - min(block_numbers) != len(block_numbers) - 1:\n",
    "                return False\n",
    "    return True\n",
    "\n"
   ],
   "outputs": [],
   "execution_count": 13
  },
  {
   "cell_type": "markdown",
   "id": "dcfa09f37eb59673",
   "metadata": {},
   "source": [
    "# Hard Constrains"
   ]
  },
  {
   "cell_type": "code",
   "id": "f29ac2c7037fa8c2",
   "metadata": {
    "ExecuteTime": {
     "end_time": "2025-11-01T17:57:07.415250Z",
     "start_time": "2025-11-01T17:57:07.322976Z"
    }
   },
   "source": [
    "\n",
    "def addHardConstrains(problem):\n",
    "    # 4a) Por docente\n",
    "    for lecturer_name in lecturers:\n",
    "        variables_for_lecturer = [f\"{course_code}_{index}\" for course_code in class_lecturers[lecturer_name] for index in (1, 2)]\n",
    "        problem.addConstraint(no_overlapping_blocks, tuple(variables_for_lecturer))\n",
    "\n",
    "    # 4b) Por turma\n",
    "    for group_name in class_groups:\n",
    "        variables_for_group = [f\"{course_code}_{index}\" for course_code in course_classes[group_name] for index in (1, 2)]\n",
    "        problem.addConstraint(no_overlapping_blocks, tuple(variables_for_group))\n",
    "\n",
    "    # 4c) Por sala\n",
    "    for left_lesson, right_lesson in combinations(lessons_to_schedule, 2):\n",
    "        problem.addConstraint(not_same_physical_room_in_block, (left_lesson, right_lesson))\n",
    "\n",
    "    #4f) Max 3 aulas por dia por turma\n",
    "    for group_name in class_groups:\n",
    "        vars_for_group = [\n",
    "            lesson for lesson in lessons_to_schedule\n",
    "            if course_to_group[lesson.split(\"_\")[0]] == group_name\n",
    "        ]\n",
    "        for day, day_blocks in days_blocks.items():\n",
    "            problem.addConstraint(make_max_three(day_blocks), tuple(vars_for_group))\n",
    "\n"
   ],
   "outputs": [],
   "execution_count": 14
  },
  {
   "cell_type": "markdown",
   "id": "7dfe40f75e2797ba",
   "metadata": {},
   "source": [
    "# Soft Constrains"
   ]
  },
  {
   "cell_type": "code",
   "id": "4b554b20e169bdbd",
   "metadata": {
    "ExecuteTime": {
     "end_time": "2025-11-01T17:57:07.514177Z",
     "start_time": "2025-11-01T17:57:07.493613Z"
    }
   },
   "source": [
    "def evaluateSolution(solution):\n",
    "    penalty = 0\n",
    "    for group_name in class_groups:\n",
    "        group_lessons = [\n",
    "            lesson for lesson in lessons_to_schedule\n",
    "            if course_to_group[lesson.split(\"_\")[0]] == group_name\n",
    "        ]\n",
    "        assignments = [solution[lesson] for lesson in group_lessons]\n",
    "        if not all_classes_on_day_are_consecutive(*assignments):\n",
    "            penalty += 10\n",
    "        if not lessons_four_days(*assignments):\n",
    "            penalty += 100\n",
    "    for course_code in courses:\n",
    "        first = solution[f\"{course_code}_1\"]\n",
    "        second = solution[f\"{course_code}_2\"]\n",
    "        if not lessons_on_different_days(first, second):\n",
    "            penalty += 50\n",
    "    return penalty"
   ],
   "outputs": [],
   "execution_count": 15
  },
  {
   "cell_type": "markdown",
   "id": "c0acaba14afc4caf",
   "metadata": {},
   "source": [
    "# Descobrir o resultado"
   ]
  },
  {
   "cell_type": "code",
   "id": "4dff32864e17ff2a",
   "metadata": {
    "ExecuteTime": {
     "end_time": "2025-11-01T17:57:23.834975Z",
     "start_time": "2025-11-01T17:57:07.602516Z"
    }
   },
   "source": [
    "bestSolution = None\n",
    "iterations = 1000\n",
    "minScore = float(\"inf\")\n",
    "\n",
    "lesson_domains = {lesson: domain_for_lesson(lesson) for lesson in lessons_to_schedule}\n",
    "ordered_lessons = sorted(lessons_to_schedule, key=lambda lesson: len(lesson_domains[lesson]))\n",
    "\n",
    "for iteration in range(iterations):\n",
    "    solver = MinConflictsSolver()\n",
    "    solver.random = random.Random(iteration)\n",
    "    tt_problem = Problem(solver)\n",
    "    for lesson in ordered_lessons:\n",
    "        tt_problem.addVariable(lesson, lesson_domains[lesson])\n",
    "    addHardConstrains(tt_problem)\n",
    "    solution = tt_problem.getSolution()\n",
    "    if not solution:\n",
    "        continue\n",
    "\n",
    "    penalty = evaluateSolution(solution)\n",
    "    if penalty < minScore:\n",
    "        minScore = penalty\n",
    "        bestSolution = solution\n",
    "        print(f\"Iteration {iteration + 1} of {iterations}, new best penalty: {minScore}\")\n",
    "    elif (iteration + 1) % 200 == 0:\n",
    "        if minScore == float(\"inf\"):\n",
    "            print(f\"Iteration {iteration + 1} of {iterations}, no feasible solution yet.\")\n",
    "        else:\n",
    "            print(f\"Iteration {iteration + 1} of {iterations}, best penalty so far: {minScore}\")\n",
    "\n",
    "    if minScore == 0:\n",
    "        break\n",
    "\n",
    "print(f\"\\nMelhor solução com penalidade {minScore}:\\n\")\n",
    "\n",
    "if not bestSolution:\n",
    "    print(\"Sem solução encontrada.\")\n",
    "else:\n",
    "    # agenda dia//bloco\n",
    "    schedule = {day: {block: [] for block in days_blocks[day]} for day in days}\n",
    "    for lesson, (block, room) in bestSolution.items():\n",
    "        course = lesson.split(\"_\")[0]\n",
    "        entry = {\n",
    "            \"lesson\": lesson,\n",
    "            \"course\": course,\n",
    "            \"group\": course_to_group[course],\n",
    "            \"teacher\": course_to_teacher[course],\n",
    "            \"room\": room,\n",
    "            \"block\": block,\n",
    "            \"day\": block_to_day_map[block],\n",
    "        }\n",
    "        schedule[entry[\"day\"]][block].append(entry)\n",
    "\n",
    "    # ordenar dia//bloco\n",
    "    for day in days:\n",
    "        print(f\"\\n=== {day} ===\")\n",
    "        for block in days_blocks[day]:\n",
    "            entries = schedule[day][block]\n",
    "            if not entries:\n",
    "                continue\n",
    "            print(f\"{block}:\")\n",
    "            # ordena por sala e curso para consistência visual\n",
    "            for e in sorted(entries, key=lambda x: (x[\"room\"], x[\"course\"])):\n",
    "                print(f\"  {e['room']}: {e['course']} ({e['group']}, {e['teacher']})\")\n",
    "\n",
    "    # lista ordenada por bloco (B01..B20)\n",
    "    print(\"\\n--- Lista por bloco ---\")\n",
    "    ordered = sorted(\n",
    "        [\n",
    "            {\n",
    "                \"lesson\": lesson,\n",
    "                \"course\": lesson.split(\"_\")[0],\n",
    "                \"group\": course_to_group[lesson.split(\"_\")[0]],\n",
    "                \"teacher\": course_to_teacher[lesson.split(\"_\")[0]],\n",
    "                \"room\": room,\n",
    "                \"block\": block,\n",
    "                \"day\": block_to_day_map[block],\n",
    "            }\n",
    "            for lesson, (block, room) in bestSolution.items()\n",
    "        ],\n",
    "        key=lambda e: int(e[\"block\"][1:])\n",
    "    )\n",
    "    for e in ordered:\n",
    "        print(f\"{e['block']} ({e['day']}): {e['room']} - {e['course']} ({e['group']}, {e['teacher']})\")"
   ],
   "outputs": [
    {
     "name": "stdout",
     "output_type": "stream",
     "text": [
      "Iteration 1 of 1000, new best penalty: 510\n",
      "Iteration 2 of 1000, new best penalty: 420\n",
      "Iteration 7 of 1000, new best penalty: 280\n",
      "Iteration 42 of 1000, new best penalty: 270\n"
     ]
    },
    {
     "ename": "KeyboardInterrupt",
     "evalue": "",
     "output_type": "error",
     "traceback": [
      "\u001B[31m---------------------------------------------------------------------------\u001B[39m",
      "\u001B[31mKeyboardInterrupt\u001B[39m                         Traceback (most recent call last)",
      "\u001B[36mCell\u001B[39m\u001B[36m \u001B[39m\u001B[32mIn[16]\u001B[39m\u001B[32m, line 15\u001B[39m\n\u001B[32m     13\u001B[39m     tt_problem.addVariable(lesson, lesson_domains[lesson])\n\u001B[32m     14\u001B[39m addHardConstrains(tt_problem)\n\u001B[32m---> \u001B[39m\u001B[32m15\u001B[39m solution = \u001B[43mtt_problem\u001B[49m\u001B[43m.\u001B[49m\u001B[43mgetSolution\u001B[49m\u001B[43m(\u001B[49m\u001B[43m)\u001B[49m\n\u001B[32m     16\u001B[39m \u001B[38;5;28;01mif\u001B[39;00m \u001B[38;5;129;01mnot\u001B[39;00m solution:\n\u001B[32m     17\u001B[39m     \u001B[38;5;28;01mcontinue\u001B[39;00m\n",
      "\u001B[36mFile \u001B[39m\u001B[32m~/Documents/Developer/Aulinhas/InteligenciaArtificial/.venv/lib/python3.14/site-packages/constraint/__init__.py:250\u001B[39m, in \u001B[36mProblem.getSolution\u001B[39m\u001B[34m(self)\u001B[39m\n\u001B[32m    248\u001B[39m \u001B[38;5;28;01mif\u001B[39;00m \u001B[38;5;129;01mnot\u001B[39;00m domains:\n\u001B[32m    249\u001B[39m     \u001B[38;5;28;01mreturn\u001B[39;00m \u001B[38;5;28;01mNone\u001B[39;00m\n\u001B[32m--> \u001B[39m\u001B[32m250\u001B[39m \u001B[38;5;28;01mreturn\u001B[39;00m \u001B[38;5;28;43mself\u001B[39;49m\u001B[43m.\u001B[49m\u001B[43m_solver\u001B[49m\u001B[43m.\u001B[49m\u001B[43mgetSolution\u001B[49m\u001B[43m(\u001B[49m\u001B[43mdomains\u001B[49m\u001B[43m,\u001B[49m\u001B[43m \u001B[49m\u001B[43mconstraints\u001B[49m\u001B[43m,\u001B[49m\u001B[43m \u001B[49m\u001B[43mvconstraints\u001B[49m\u001B[43m)\u001B[49m\n",
      "\u001B[36mFile \u001B[39m\u001B[32m~/Documents/Developer/Aulinhas/InteligenciaArtificial/.venv/lib/python3.14/site-packages/constraint/__init__.py:727\u001B[39m, in \u001B[36mMinConflictsSolver.getSolution\u001B[39m\u001B[34m(self, domains, constraints, vconstraints)\u001B[39m\n\u001B[32m    725\u001B[39m count = \u001B[32m0\u001B[39m\n\u001B[32m    726\u001B[39m \u001B[38;5;28;01mfor\u001B[39;00m constraint, variables \u001B[38;5;129;01min\u001B[39;00m vconstraints[variable]:\n\u001B[32m--> \u001B[39m\u001B[32m727\u001B[39m     \u001B[38;5;28;01mif\u001B[39;00m \u001B[38;5;129;01mnot\u001B[39;00m \u001B[43mconstraint\u001B[49m\u001B[43m(\u001B[49m\u001B[43mvariables\u001B[49m\u001B[43m,\u001B[49m\u001B[43m \u001B[49m\u001B[43mdomains\u001B[49m\u001B[43m,\u001B[49m\u001B[43m \u001B[49m\u001B[43massignments\u001B[49m\u001B[43m)\u001B[49m:\n\u001B[32m    728\u001B[39m         count += \u001B[32m1\u001B[39m\n\u001B[32m    729\u001B[39m \u001B[38;5;28;01mif\u001B[39;00m count == mincount:\n",
      "\u001B[36mFile \u001B[39m\u001B[32m~/Documents/Developer/Aulinhas/InteligenciaArtificial/.venv/lib/python3.14/site-packages/constraint/__init__.py:993\u001B[39m, in \u001B[36mFunctionConstraint.__call__\u001B[39m\u001B[34m(self, variables, domains, assignments, forwardcheck, _unassigned)\u001B[39m\n\u001B[32m    987\u001B[39m \u001B[38;5;28;01mif\u001B[39;00m missing:\n\u001B[32m    988\u001B[39m     \u001B[38;5;28;01mreturn\u001B[39;00m (\u001B[38;5;28mself\u001B[39m._assigned \u001B[38;5;129;01mor\u001B[39;00m \u001B[38;5;28mself\u001B[39m._func(*parms)) \u001B[38;5;129;01mand\u001B[39;00m (\n\u001B[32m    989\u001B[39m         \u001B[38;5;129;01mnot\u001B[39;00m forwardcheck \u001B[38;5;129;01mor\u001B[39;00m\n\u001B[32m    990\u001B[39m         missing != \u001B[32m1\u001B[39m \u001B[38;5;129;01mor\u001B[39;00m\n\u001B[32m    991\u001B[39m         \u001B[38;5;28mself\u001B[39m.forwardCheck(variables, domains, assignments)\n\u001B[32m    992\u001B[39m     )\n\u001B[32m--> \u001B[39m\u001B[32m993\u001B[39m \u001B[38;5;28;01mreturn\u001B[39;00m \u001B[38;5;28;43mself\u001B[39;49m\u001B[43m.\u001B[49m\u001B[43m_func\u001B[49m\u001B[43m(\u001B[49m\u001B[43m*\u001B[49m\u001B[43mparms\u001B[49m\u001B[43m)\u001B[49m\n",
      "\u001B[36mCell\u001B[39m\u001B[36m \u001B[39m\u001B[32mIn[13]\u001B[39m\u001B[32m, line 39\u001B[39m, in \u001B[36mnot_same_physical_room_in_block\u001B[39m\u001B[34m(lesson_assignment_left, lesson_assignment_right)\u001B[39m\n\u001B[32m     36\u001B[39m     blocks = [block \u001B[38;5;28;01mfor\u001B[39;00m (block, room) \u001B[38;5;129;01min\u001B[39;00m lesson_assignments]\n\u001B[32m     37\u001B[39m     \u001B[38;5;28;01mreturn\u001B[39;00m \u001B[38;5;28mlen\u001B[39m(\u001B[38;5;28mset\u001B[39m(blocks)) == \u001B[38;5;28mlen\u001B[39m(blocks)\n\u001B[32m---> \u001B[39m\u001B[32m39\u001B[39m \u001B[38;5;28;01mdef\u001B[39;00m\u001B[38;5;250m \u001B[39m\u001B[34mnot_same_physical_room_in_block\u001B[39m(lesson_assignment_left, lesson_assignment_right):\n\u001B[32m     40\u001B[39m     \u001B[38;5;66;03m# Uma aula por (sala, bloco), exceto a aula online\u001B[39;00m\n\u001B[32m     41\u001B[39m     (block_left, room_left) = lesson_assignment_left\n\u001B[32m     42\u001B[39m     (block_right, room_right) = lesson_assignment_right\n",
      "\u001B[31mKeyboardInterrupt\u001B[39m: "
     ]
    }
   ],
   "execution_count": 16
  }
 ],
 "metadata": {
  "kernelspec": {
   "display_name": ".venv",
   "language": "python",
   "name": "python3"
  },
  "language_info": {
   "codemirror_mode": {
    "name": "ipython",
    "version": 3
   },
   "file_extension": ".py",
   "mimetype": "text/x-python",
   "name": "python",
   "nbconvert_exporter": "python",
   "pygments_lexer": "ipython3",
   "version": "3.13.8"
  }
 },
 "nbformat": 4,
 "nbformat_minor": 5
}
